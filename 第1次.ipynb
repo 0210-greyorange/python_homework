{
 "cells": [
  {
   "cell_type": "code",
   "execution_count": 1,
   "metadata": {},
   "outputs": [],
   "source": [
    "print(\"Hello！\" + \"陈菲\")"
   ]
  },
  {
   "cell_type": "markdown",
   "metadata": {},
   "source": [
    "# 感兴趣的开发模块：（共6个）\n"
   ]
  },
  {
   "cell_type": "markdown",
   "metadata": {},
   "source": [
    "## 1. Requests\n",
    "\n",
    "### Requests库中有7个主要的函数\n",
    "\n",
    "分别是 request() 、get() 、 head() 、post() 、put() 、patch() 、delete() 。这七个函数中request()函数是其余六个函数的基础函数，其余六个函数的实现都是通过调用该函数实现的。\n",
    "\n",
    "### 方法说明\n",
    "\n",
    "- requests.request() 构造一个请求，支撑一下方法的基础方法\n",
    "\n",
    "- requests.get() 获取HTML网页的主要方法，对应于HTTP的GET（请求URL位置的资源）\n",
    "\n",
    "- requests.head() 获取HTML网页头信息的方法，对应于HTTP的HEAD（请求URL位置的资源的头部信息）\n",
    "\n",
    "- requests.post() 向HTML网页提交POST请求的方法，对应于HTTP的POST（请求向URL位置的资源附加新的数据）\n",
    "\n",
    "- requests.put() 向HTML网页提交PUT请求的方法，对应于HTTP的PUT（请求向URL位置储存一个资源，覆盖原来URL位置的资源）\n",
    "\n",
    "- requests.patch() 向HTML网页提交局部修改的请求，对应于HTTP的PATCH（请求局部更新URL位置的资源）\n",
    "\n",
    "- requests.delete() 向HTML网页提交删除请求，对应于HTTP的DELETE（请求删除URL位置储存的资源）\n",
    "\n",
    "而这几个函数中，最常用的又是 requests.get() 函数。get函数有很多的参数，我只举几个比较常用的参数\n",
    "\n",
    "### 参数说明\n",
    "\n",
    "- url 就是网站的url\n",
    "\n",
    "- params 将字典或字节序列，作为参数添加到url中，get形式的参数\n",
    "\n",
    "- data 将字典或字节序列，作为参数添加到url中，post形式的参数\n",
    "\n",
    "- headers 请求头，可以修改User-Agent等参数\n",
    "\n",
    "- timeout 超时时间\n",
    "\n",
    "- proxies 设置代理"
   ]
  },
  {
   "cell_type": "markdown",
   "metadata": {},
   "source": [
    "## 2. Pandas\n",
    "\n",
    "### 一般写法\n",
    "import pandas as pd\n",
    "\n",
    "### 主要特点\n",
    "\n",
    "- 使用默认和自定义索引的快速高效的DataFrame对象。\n",
    "\n",
    "- 用于将数据从不同文件格式加载到内存数据对象的工具。\n",
    "\n",
    "- 数据对齐和缺失数据的集成处理。\n",
    "\n",
    "- 重新设置和旋转日期集。\n",
    "\n",
    "- 大数据集的基于标签的分片，索引和子集。\n",
    "\n",
    "- 数据结构中的列可以被删除或插入。\n",
    "\n",
    "- 按数据分组进行聚合和转换。\n",
    "\n",
    "- 高性能的数据合并和连接。\n",
    "\n",
    "- 时间序列功能。\n",
    "\n",
    "### 主要功能\n",
    "\n",
    "#### 导入数据\n",
    "- pd.read_csv(filename)：从CSV文件导入数据\n",
    "\n",
    "- pd.read_table(filename)：从限定分隔符的文本文件导入数据\n",
    "\n",
    "- pd.read_excel(filename)：从Excel文件导入数据\n",
    "\n",
    "- pd.read_sql(query, connection_object)：从SQL表/库导入数据\n",
    "\n",
    "- pd.read_json(json_string)：从JSON格式的字符串导入数据\n",
    "\n",
    "- pd.read_html(url)：解析URL、字符串或者HTML文件，抽取其中的tables表格\n",
    "\n",
    "- pd.read_clipboard()：从你的粘贴板获取内容，并传给read_table()\n",
    "\n",
    "- pd.DataFrame(dict)：从字典对象导入数据，Key是列名，Value是数据\n",
    "\n",
    "#### 导出数据\n",
    "\n",
    "- df.to_csv(filename)：导出数据到CSV文件\n",
    "\n",
    "- df.to_excel(filename)：导出数据到Excel文件\n",
    "\n",
    "- df.to_sql(table_name, connection_object)：导出数据到SQL表\n",
    "\n",
    "- df.to_json(filename)：以Json格式导出数据到文本文件\n",
    "\n",
    "#### 创建测试对象\n",
    "\n",
    "- pd.DataFrame(np.random.rand(20,5))：创建20行5列的随机数组成的DataFrame对象\n",
    "\n",
    "- pd.Series(my_list)：从可迭代对象my_list创建一个Series对象\n",
    "\n",
    "- df.index = pd.date_range(‘1900/1/30’, periods=df.shape[0])：增加一个日期索引\n",
    "\n",
    "#### 查看、检查数据\n",
    "\n",
    "- df.head(n)：查看DataFrame对象的前n行\n",
    "\n",
    "- df.tail(n)：查看DataFrame对象的最后n行\n",
    "\n",
    "- df.shape()：查看行数和列数\n",
    "\n",
    "- df.info()：查看索引、数据类型和内存信息\n",
    "\n",
    "- df.describe()：查看数值型列的汇总统计\n",
    "\n",
    "- s.value_counts(dropna=False)：查看Series对象的唯一值和计数\n",
    "\n",
    "- df.apply(pd.Series.value_counts)：查看DataFrame对象中每一列的唯一值和计数\n",
    "\n",
    "#### 数据选取\n",
    "\n",
    "- df[col]：根据列名，并以Series的形式返回列\n",
    "\n",
    "- df[[col1, col2]]：以DataFrame形式返回多列\n",
    "\n",
    "- s.iloc[0]：按位置选取数据\n",
    "\n",
    "- s.loc[‘index_one’]：按索引选取数据\n",
    "\n",
    "- df.iloc[0,:]：返回第一行\n",
    "\n",
    "- df.iloc[0,0]：返回第一列的第一个元素\n",
    "\n",
    "#### 数据清理\n",
    "\n",
    "- df.columns = [‘a’,’b’,’c’]：重命名列名\n",
    "\n",
    "- pd.isnull()：检查DataFrame对象中的空值，并返回一个Boolean数组\n",
    "\n",
    "- pd.notnull()：检查DataFrame对象中的非空值，并返回一个Boolean数组\n",
    "\n",
    "- df.dropna()：删除所有包含空值的行\n",
    "\n",
    "- df.dropna(axis=1)：删除所有包含空值的列\n",
    "\n",
    "- df.dropna(axis=1,thresh=n)：删除所有小于n个非空值的行\n",
    "\n",
    "- df.fillna(x)：用x替换DataFrame对象中所有的空值\n",
    "\n",
    "- s.astype(float)：将Series中的数据类型更改为float类型\n",
    "\n",
    "- s.replace(1,’one’)：用‘one’代替所有等于1的值\n",
    "\n",
    "- s.replace([1,3],[‘one’,’three’])：用’one’代替1，用’three’代替3\n",
    "\n",
    "- df.rename(columns=lambda x: x + 1)：批量更改列名\n",
    "\n",
    "- df.rename(columns={‘old_name’: ‘new_ name’})：选择性更改列名\n",
    "\n",
    "- df.set_index(‘column_one’)：更改索引列\n",
    "\n",
    "- df.rename(index=lambda x: x + 1)：批量重命名索引\n",
    "\n",
    "#### 数据处理：Filter、Sort和GroupBy\n",
    "\n",
    "- df[df[col] > 0.5]：选择col列的值大于0.5的行\n",
    "\n",
    "- df.sort_values(col1)：按照列col1排序数据，默认升序排列\n",
    "\n",
    "- df.sort_values(col2, ascending=False)：按照列col1降序排列数据\n",
    "\n",
    "- df.sort_values([col1,col2], ascending=[True,False])：先按列col1升序排列，后按col2降序排列数据\n",
    "\n",
    "- df.groupby(col)：返回一个按列col进行分组的Groupby对象\n",
    "\n",
    "- df.groupby([col1,col2])：返回一个按多列进行分组的Groupby对象\n",
    "\n",
    "- df.groupby(col1)[col2]：返回按列col1进行分组后，列col2的均值\n",
    "\n",
    "- df.pivot_table(index=col1, values=[col2,col3], aggfunc=max)：创建一个按列col1进行分组，并计算col2和col3的最大值的数据透视表\n",
    "\n",
    "- df.groupby(col1).agg(np.mean)：返回按列col1分组的所有列的均值\n",
    "\n",
    "- data.apply(np.mean)：对DataFrame中的每一列应用函数np.mean\n",
    "\n",
    "- data.apply(np.max,axis=1)：对DataFrame中的每一行应用函数np.max\n",
    "\n",
    "#### 数据合并\n",
    "\n",
    "- df1.append(df2)：将df2中的行添加到df1的尾部\n",
    "\n",
    "- df.concat([df1, df2],axis=1)：将df2中的列添加到df1的尾部\n",
    "\n",
    "- df1.join(df2,on=col1,how=’inner’)：对df1的列和df2的列执行SQL形式的join\n",
    "\n",
    "#### 数据统计\n",
    "\n",
    "- df.describe()：查看数据值列的汇总统计\n",
    "\n",
    "- df.mean()：返回所有列的均值\n",
    "\n",
    "- df.corr()：返回列与列之间的相关系数\n",
    "\n",
    "- df.count()：返回每一列中的非空值的个数\n",
    "\n",
    "- df.max()：返回每一列的最大值\n",
    "\n",
    "- df.min()：返回每一列的最小值\n",
    "\n",
    "- df.median()：返回每一列的中位数\n",
    "\n",
    "- df.std()：返回每一列的标准差"
   ]
  },
  {
   "cell_type": "markdown",
   "metadata": {},
   "source": [
    "## 3.NumPy\n",
    "\n",
    "numpy的主要对象是同种元素的多维数组，所有的元素都必须是一种类型，可通过一个正整数元组索引的元素表格。在numpy中维度称为轴(axes)，轴的个数叫做秩(rank)。Numpy的数组类型narray，其常用对象属性：\n",
    "\n",
    "- ndarray.dim   数组轴的个数\n",
    "\n",
    "- ndarray.shape  数组的维度\n",
    "\n",
    "- ndarray.size   数组元素的个数\n",
    "\n",
    "- ndarray.dtype  数组元素类型\n",
    "\n",
    "- ndarray.itemsize  数组每个元素的字节大小\n",
    "\n",
    "- ndarray.data  指向数据内存，包含实际数组元素\n",
    "\n",
    "### 主要功能\n",
    "\n",
    "#### 创建数组:\n",
    "\n",
    "1. 通过list或元组创建ndarray，元素类型可以由给定的数据自动推导出来，也可以由设计者给定。      \n",
    "\n",
    "2. 调用zeros/ ones/ empty/ zeros_like/ones_like/ eye等函数生成\n",
    "\n",
    "3. 调用arange/ linspace也可生成\n",
    "\n",
    " \n",
    "\n",
    "#### 打印数组:\n",
    "\n",
    "使用print即可，如 a = np.arange(9).reshape(3,3)，再调用print(a)即可将数组a显示出来。\n",
    "\n",
    "\n",
    "\n",
    "#### 基本运算:\n",
    "\n",
    "1.数组的算术运算是按元素进行的。\n",
    "\n",
    "设a = np.array([2,3]),b=np.array(7,8)\n",
    "\n",
    "加法：c = a + b， 则c为 array([9,11])\n",
    "\n",
    "加法：c = b - a， 则c为 array([5,5])\n",
    "\n",
    "乘法：c = a * b， 则c为 array([14,24])\n",
    "\n",
    "二次方：c = a ** 2，则c为array([4, 9])\n",
    "\n",
    "当两个数组元素的类型不同时，其会进行类型转换，往更精确的方向转换，比如int和float相加，得到的结果为float\n",
    "\n",
    "2.矩阵乘法  dot函数\n",
    "\n",
    "\n",
    "#### 索引:\n",
    "\n",
    "- 可通过arr[a, b]， arr[:,b]，arr[a, :]，arr[m:n, b]，arr[a, m:n]，arr[m:n, p:q]等多种形式进行访问某个位置的元素、行或列。\n",
    "\n",
    "- arr[-1]表示访问最后一行\n",
    "\n",
    "      for row in arr:  //表示按行访问arr\n",
    "\n",
    "        print row\n",
    "\n",
    "- 若想访问每个数组中元素，可以使用flat属性，如\n",
    "\n",
    "      for element in b.flat:\n",
    "\n",
    "        print element\n",
    "\n",
    "\n",
    "#### 组合不同的数组:\n",
    "\n",
    "可以沿不同轴将数组堆叠在一起：\n",
    "\n",
    "- Column_stack： 以列将一维数组组合成二维数组\n",
    "\n",
    "- Row_stack：以行将一维数组组合成二维数组\n",
    "\n",
    "- Hstack:水平方向堆叠\n",
    "\n",
    "- Vstack:垂直方向堆叠\n",
    "\n",
    "- Concatenate:允许可选参数给出组合时沿着的轴\n",
    "\n",
    " \n",
    "\n",
    "#### 将数组分割：\n",
    "\n",
    "- Hsplit:水平分割\n",
    "\n",
    "- Vsplit:垂直分割\n",
    "\n",
    "- Array_split：指定沿哪个轴分割\n",
    "\n",
    " \n",
    "\n",
    "#### 深拷贝与浅拷贝:\n",
    "\n",
    "    a= np.array([1,2,3]);\n",
    "\n",
    "    b= a;  #浅拷贝，即b与a指向同一个空间,  b is a = true\n",
    "\n",
    "    c= a.copy()  #深拷贝，把a的内容复制给了c，不指向同一空间, c isa = false\n",
    "\n",
    "    d = a.view() #浅复制，d与a指向同一数据空间，但是此时创建了新的对象，d is a=false\n",
    "\n",
    " \n",
    "\n",
    "#### mat函数:\n",
    "\n",
    "mat函数将目标数据类型转换为矩阵(matrix)\n",
    "\n",
    "matrix对象是继承ndarray而来，因此其和ndarray有相同的属性和方法，但它们之间有六个重要的区别：\n",
    "\n",
    "- 矩阵对象可以使用字符串符号创建，以允许matlab风格语法\n",
    "\n",
    "- 矩阵对象总是二维的\n",
    "\n",
    "- 矩阵对象乘法就是矩阵乘法\n",
    "\n",
    "- Matrix objects over-ridepower to be matrix raised to a power. The same warning about using power insidea function that uses asanyarray(...) to get an array object holds for this fact.（这个没太懂）\n",
    "\n",
    "- 矩阵对象的默认优先级__array_priority__是10.0，因此与ndarrays的混合操作总是产生矩阵\n",
    "\n",
    "- 矩阵有其特殊属性，使计算更容易. arr.T矩阵转置，arr.I矩阵求逆，arr.H矩阵共轭， arr.A将矩阵作为一个ndarray对象返回\n"
   ]
  },
  {
   "cell_type": "markdown",
   "metadata": {},
   "source": [
    "## 4. Matplotlib\n",
    "\n",
    "### matplotlib库是什么\n",
    "\n",
    "matplotlib是python中常用的一个绘图库，他的功能相当于matlab，基本上matlab上能实现的绘图功能都能够通过matplotlib库来在python中进行实现。\n",
    "\n",
    "### matplotlib基础用法\n",
    "\n",
    "matplotlib绘图使用的是其中的pyplot库，其核心思想包括以下几个步骤：\n",
    "\n",
    "- 定一个画布；\n",
    "\n",
    "- 在画布上绘制所需要展示的图表；\n",
    "\n",
    "- 展示画布内容。\n",
    "\n",
    "### 一些常用图表的绘制方法\n",
    "#### 统计图表绘制\n",
    "\n",
    "- 直方图绘制\n",
    "\n",
    "- 饼状图绘制\n",
    "\n",
    "#### 散点图 & 曲线绘制\n",
    "\n",
    "- 散点图绘制\n",
    "\n",
    "- 一般曲线绘制\n",
    "\n",
    "#### 图片属性设置\n",
    "\n",
    "- 图片大小设置\n",
    "\n",
    "- 坐标轴设置\n",
    "\n",
    "- 网格设置\n",
    "\n",
    "#### 复杂图表绘制\n",
    "\n",
    "- 同一张图中绘制多条曲线\n",
    "\n",
    "- 以子图的方式绘制多条曲线\n",
    "\n",
    "- 同一张图中设置双坐标系\n",
    "\n",
    "- 在大图中绘制子图\n"
   ]
  },
  {
   "cell_type": "markdown",
   "metadata": {},
   "source": [
    "## 5.TensorFlow\n",
    "\n",
    "### 简介\n",
    "- 随着各种图像识别, 语音识别的记录被不断刷新, 深度学习被证明是一个极具潜力的技术方向. 构建高效, 可靠, 可扩展的基础工具, 能为这一领域发展起到极大作用.\n",
    "\n",
    "- Google 退出了一套深度学习系统: TensorFlow. TensorFlow 是目前最优秀的深度学习系统之一:\n",
    "\n",
    "- 具有灵活的表达能力, 能够快速实现各种算法\n",
    "\n",
    "- 高执行能力, 具备分布扩展性\n",
    "\n",
    "- 跨平台可移植性\n",
    "\n",
    "- 试验可复现性\n",
    "\n",
    "- 支持快速产品化, 模型可随时部署\n",
    "\n",
    "- TensorFlow 是一个基于数据流图的数值计算开源库.\n",
    "\n",
    "- 面向数值计算 (深度学习, 通用计算机应用) 数据流图是 TensorFlow 计算的抽象表示. 数据流图是有向图, 图中的各点表示各种数学的计算操作, 边表示操作与操作之间传递的高纬度数值数据, 称为 tensor. 支持各种设备的灵活部署, 分布式集群, 手机移动设备.\n",
    "\n",
    "### 特点\n",
    "TensorFlow 是一个机遇数据流编程的符号数学系统, 被广泛应用于各类机器学习算法的编程实现.\n",
    "\n",
    "TensorFlow 的特点:\n",
    "\n",
    "- 多平台支持, 很容易在移动设备上运行\n",
    "\n",
    "- 内置了简单的高级 API, 使用方便\n",
    "\n",
    "- 支持可视化训练 (TensorBoard)\n",
    "\n",
    "- 容易实现生产部署 (TensorFlow Serving)\n",
    "\n",
    "- 良好的文档和广大的社区支持"
   ]
  },
  {
   "cell_type": "markdown",
   "metadata": {},
   "source": [
    "## 6. PyTorch\n",
    "\n",
    "### 基本用法"
   ]
  },
  {
   "cell_type": "markdown",
   "metadata": {},
   "source": [
    "#### 输出版本"
   ]
  },
  {
   "cell_type": "code",
   "execution_count": 2,
   "metadata": {},
   "outputs": [
    {
     "name": "stdout",
     "output_type": "stream",
     "text": [
      "1.7.0+cpu\n"
     ]
    }
   ],
   "source": [
    "import torch\n",
    "print(torch.__version__)"
   ]
  },
  {
   "cell_type": "markdown",
   "metadata": {},
   "source": [
    "#### 创建a矩阵"
   ]
  },
  {
   "cell_type": "code",
   "execution_count": 3,
   "metadata": {},
   "outputs": [
    {
     "name": "stdout",
     "output_type": "stream",
     "text": [
      "tensor([[0., 0., 0.],\n",
      "        [0., 0., 0.],\n",
      "        [0., 0., 0.],\n",
      "        [0., 0., 0.],\n",
      "        [0., 0., 0.]])\n"
     ]
    }
   ],
   "source": [
    "a = torch.empty(5, 3)\n",
    "print(a)"
   ]
  },
  {
   "cell_type": "markdown",
   "metadata": {},
   "source": [
    "#### 创建一个随机矩阵"
   ]
  },
  {
   "cell_type": "code",
   "execution_count": 4,
   "metadata": {},
   "outputs": [
    {
     "name": "stdout",
     "output_type": "stream",
     "text": [
      "tensor([[0.7127, 0.1942, 0.3997],\n",
      "        [0.2898, 0.1822, 0.7947],\n",
      "        [0.2400, 0.9720, 0.9462],\n",
      "        [0.3822, 0.0322, 0.7618],\n",
      "        [0.4938, 0.8348, 0.9067]])\n"
     ]
    }
   ],
   "source": [
    "b = torch.rand(5, 3)\n",
    "print(b)"
   ]
  },
  {
   "cell_type": "markdown",
   "metadata": {},
   "source": [
    "#### 创建一个全0矩阵"
   ]
  },
  {
   "cell_type": "code",
   "execution_count": 5,
   "metadata": {},
   "outputs": [
    {
     "name": "stdout",
     "output_type": "stream",
     "text": [
      "tensor([[0, 0, 0],\n",
      "        [0, 0, 0],\n",
      "        [0, 0, 0],\n",
      "        [0, 0, 0],\n",
      "        [0, 0, 0]])\n"
     ]
    }
   ],
   "source": [
    "c = torch.zeros(5, 3, dtype=torch.long)\n",
    "print(c)"
   ]
  },
  {
   "cell_type": "markdown",
   "metadata": {},
   "source": [
    "#### 直接传入数据"
   ]
  },
  {
   "cell_type": "code",
   "execution_count": 6,
   "metadata": {},
   "outputs": [
    {
     "name": "stdout",
     "output_type": "stream",
     "text": [
      "tensor([5.5000, 3.0000])\n"
     ]
    }
   ],
   "source": [
    "d = torch.tensor([5.5, 3])\n",
    "print(d)"
   ]
  },
  {
   "cell_type": "markdown",
   "metadata": {},
   "source": [
    "#### 创建一个全1矩阵"
   ]
  },
  {
   "cell_type": "code",
   "execution_count": 7,
   "metadata": {},
   "outputs": [
    {
     "name": "stdout",
     "output_type": "stream",
     "text": [
      "tensor([[1., 1., 1.],\n",
      "        [1., 1., 1.],\n",
      "        [1., 1., 1.],\n",
      "        [1., 1., 1.],\n",
      "        [1., 1., 1.]], dtype=torch.float64)\n"
     ]
    }
   ],
   "source": [
    "e = torch.ones(5, 3, dtype=torch.double)\n",
    "print(e)"
   ]
  },
  {
   "cell_type": "markdown",
   "metadata": {},
   "source": [
    "#### 标准差是1的随机数"
   ]
  },
  {
   "cell_type": "code",
   "execution_count": 8,
   "metadata": {},
   "outputs": [
    {
     "name": "stdout",
     "output_type": "stream",
     "text": [
      "tensor([[0.1031, 0.3789, 0.9064],\n",
      "        [0.0158, 0.2760, 0.3095],\n",
      "        [0.1251, 0.3651, 0.4132],\n",
      "        [0.3512, 0.9256, 0.9110],\n",
      "        [0.1770, 0.0112, 0.9681]])\n"
     ]
    }
   ],
   "source": [
    "f = torch.rand_like(e, dtype=torch.float)\n",
    "print(f)"
   ]
  },
  {
   "cell_type": "markdown",
   "metadata": {},
   "source": [
    "#### 基本计算方法"
   ]
  },
  {
   "cell_type": "markdown",
   "metadata": {},
   "source": [
    "#### 定义张量"
   ]
  },
  {
   "cell_type": "code",
   "execution_count": 9,
   "metadata": {},
   "outputs": [],
   "source": [
    "a = torch.zeros([5, 3])\n",
    "b = torch.ones([5, 3])"
   ]
  },
  {
   "cell_type": "markdown",
   "metadata": {},
   "source": [
    "#### 加法"
   ]
  },
  {
   "cell_type": "code",
   "execution_count": 10,
   "metadata": {},
   "outputs": [
    {
     "name": "stdout",
     "output_type": "stream",
     "text": [
      "tensor([[1., 1., 1.],\n",
      "        [1., 1., 1.],\n",
      "        [1., 1., 1.],\n",
      "        [1., 1., 1.],\n",
      "        [1., 1., 1.]])\n",
      "tensor([[1., 1., 1.],\n",
      "        [1., 1., 1.],\n",
      "        [1., 1., 1.],\n",
      "        [1., 1., 1.],\n",
      "        [1., 1., 1.]])\n"
     ]
    }
   ],
   "source": [
    "c = a + b\n",
    "d = torch.add(a, b)\n",
    "print(c)\n",
    "print(d)"
   ]
  },
  {
   "cell_type": "markdown",
   "metadata": {},
   "source": [
    "#### 减法"
   ]
  },
  {
   "cell_type": "code",
   "execution_count": 11,
   "metadata": {},
   "outputs": [
    {
     "name": "stdout",
     "output_type": "stream",
     "text": [
      "tensor([[-1., -1., -1.],\n",
      "        [-1., -1., -1.],\n",
      "        [-1., -1., -1.],\n",
      "        [-1., -1., -1.],\n",
      "        [-1., -1., -1.]])\n",
      "tensor([[-1., -1., -1.],\n",
      "        [-1., -1., -1.],\n",
      "        [-1., -1., -1.],\n",
      "        [-1., -1., -1.],\n",
      "        [-1., -1., -1.]])\n"
     ]
    }
   ],
   "source": [
    "e = a - b\n",
    "f = torch.sub(a, b)\n",
    "print(e)\n",
    "print(f)"
   ]
  },
  {
   "cell_type": "markdown",
   "metadata": {},
   "source": [
    "#### 索引"
   ]
  },
  {
   "cell_type": "code",
   "execution_count": 12,
   "metadata": {},
   "outputs": [
    {
     "name": "stdout",
     "output_type": "stream",
     "text": [
      "tensor([0., 0., 0., 0., 0.])\n",
      "tensor([1., 1., 1., 1., 1.])\n"
     ]
    }
   ],
   "source": [
    "print(a[:, 1])\n",
    "print(b[:, 1])"
   ]
  },
  {
   "cell_type": "markdown",
   "metadata": {},
   "source": [
    "#### 操作维度"
   ]
  },
  {
   "cell_type": "code",
   "execution_count": 13,
   "metadata": {},
   "outputs": [
    {
     "name": "stdout",
     "output_type": "stream",
     "text": [
      "torch.Size([4, 4])\n",
      "torch.Size([16])\n",
      "torch.Size([2, 8])\n"
     ]
    }
   ],
   "source": [
    "x = torch.randn(4,4)\n",
    "y = x.view(16)\n",
    "z = x.view(-1,8)\n",
    "print(x.size())\n",
    "print(y.size())\n",
    "print(z.size())"
   ]
  },
  {
   "cell_type": "markdown",
   "metadata": {},
   "source": [
    "#### 与numpy协同操作"
   ]
  },
  {
   "cell_type": "code",
   "execution_count": 14,
   "metadata": {},
   "outputs": [
    {
     "name": "stdout",
     "output_type": "stream",
     "text": [
      "[1. 1. 1. 1. 1.]\n"
     ]
    }
   ],
   "source": [
    "import numpy as np\n",
    "\n",
    "x = torch.ones(5)\n",
    "y = x.numpy()\n",
    "print(y)"
   ]
  },
  {
   "cell_type": "code",
   "execution_count": 15,
   "metadata": {},
   "outputs": [
    {
     "name": "stdout",
     "output_type": "stream",
     "text": [
      "[1. 1. 1. 1. 1.]\n"
     ]
    }
   ],
   "source": [
    "x = np.ones(5)\n",
    "y = torch.from_numpy(x)\n",
    "print(x)"
   ]
  },
  {
   "cell_type": "markdown",
   "metadata": {},
   "source": [
    "\n",
    "\n",
    "\n",
    "\n",
    "# 半年后期望做成的小项目：外卖比价平台"
   ]
  },
  {
   "cell_type": "markdown",
   "metadata": {},
   "source": [
    "### 背景\n",
    "\n",
    "1. 社畜与高校学生党，不管是在家还是在校还是在工作，上班的劳累与食堂菜色的单一，都导致对外卖的需求不减反增。\n",
    "2. 普通人没有时间各个平台比价，从而专注一个平台，容易被外卖平台使用算法**杀熟**。（比如是否是会员、是否短期内下过单、顾客的手机型号等）\n",
    "\n",
    "### 场景描述\n",
    "\n",
    "- 订外卖的话，我更倾向于做成app，会更方便大多数人群随时随地使用。\n",
    "- 该app中包含各大外卖平台（美团、饿了么、到家美食会等）的商品。\n",
    "- 展示方式\n",
    "  - 若某家店铺只使用一家外卖平台，那么app将直接展示。\n",
    "  - 若某家店铺不止使用一家外卖平台，则展示同一商品的各个平台价格对比。\n",
    "\n",
    "### 功能描述\n",
    "\n",
    "- 下单\n",
    "  - 用户选择下单地址。\n",
    "  - 用户搜索需要下单的商品。\n",
    "  - 搜索的结果页面将展示包含该商品的所有店铺（由近及远 and 根据客户下单次数等 形成相应的排序算法）。\n",
    "  - 点进某一店铺后，选择需要的商品，可以看到不同平台的商品价格、优惠情况、即时的配送费、打包费等。\n",
    "  - 也可查询某一商品的30天/60天的历史价格**变化曲线**。\n",
    "  - 用户选好之后，点击下单按钮，后台即可在相应的外卖平台下单，用户付款。\n",
    "- 收藏\n",
    "  - 针对用户喜爱的商品 or 被他人种草且还未拔草的商品，可纳入收藏夹。\n",
    "  - 当这些商品通过一些可取的优惠从而**达到历史最低价格**时，提醒用户下单。\n",
    "- 爆料\n",
    "  - 当用户有时自己使用外卖平台通过领取比较特殊的优惠券，but 此时app的比价算法无法覆盖到时。\n",
    "  - 用户可以选择爆料，把怎么领取优惠券的方式通过文字/截图，清晰地表述出来。\n",
    "  - app客服人员审核通过后，可奖励爆料者适当奖励金，奖励金可以在外卖付款时**直接抵用**。"
   ]
  }
 ],
 "metadata": {
  "kernelspec": {
   "display_name": "Python 3",
   "language": "python",
   "name": "python3"
  },
  "language_info": {
   "codemirror_mode": {
    "name": "ipython",
    "version": 3
   },
   "file_extension": ".py",
   "mimetype": "text/x-python",
   "name": "python",
   "nbconvert_exporter": "python",
   "pygments_lexer": "ipython3",
   "version": "3.8.3"
  }
 },
 "nbformat": 4,
 "nbformat_minor": 4
}
